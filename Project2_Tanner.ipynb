{
 "cells": [
  {
   "cell_type": "code",
   "execution_count": 1,
   "id": "10457b05",
   "metadata": {},
   "outputs": [],
   "source": [
    "import pandas as pd"
   ]
  },
  {
   "cell_type": "code",
   "execution_count": 2,
   "id": "deb2ae14",
   "metadata": {},
   "outputs": [
    {
     "name": "stdout",
     "output_type": "stream",
     "text": [
      "294478\n"
     ]
    },
    {
     "data": {
      "text/html": [
       "<div>\n",
       "<style scoped>\n",
       "    .dataframe tbody tr th:only-of-type {\n",
       "        vertical-align: middle;\n",
       "    }\n",
       "\n",
       "    .dataframe tbody tr th {\n",
       "        vertical-align: top;\n",
       "    }\n",
       "\n",
       "    .dataframe thead th {\n",
       "        text-align: right;\n",
       "    }\n",
       "</style>\n",
       "<table border=\"1\" class=\"dataframe\">\n",
       "  <thead>\n",
       "    <tr style=\"text-align: right;\">\n",
       "      <th></th>\n",
       "      <th>user_id</th>\n",
       "      <th>timestamp</th>\n",
       "      <th>group</th>\n",
       "      <th>landing_page</th>\n",
       "      <th>converted</th>\n",
       "    </tr>\n",
       "  </thead>\n",
       "  <tbody>\n",
       "    <tr>\n",
       "      <th>0</th>\n",
       "      <td>851104</td>\n",
       "      <td>2017-01-21 22:11:48.556739</td>\n",
       "      <td>control</td>\n",
       "      <td>old_page</td>\n",
       "      <td>0</td>\n",
       "    </tr>\n",
       "    <tr>\n",
       "      <th>1</th>\n",
       "      <td>804228</td>\n",
       "      <td>2017-01-12 08:01:45.159739</td>\n",
       "      <td>control</td>\n",
       "      <td>old_page</td>\n",
       "      <td>0</td>\n",
       "    </tr>\n",
       "    <tr>\n",
       "      <th>2</th>\n",
       "      <td>661590</td>\n",
       "      <td>2017-01-11 16:55:06.154213</td>\n",
       "      <td>treatment</td>\n",
       "      <td>new_page</td>\n",
       "      <td>0</td>\n",
       "    </tr>\n",
       "    <tr>\n",
       "      <th>3</th>\n",
       "      <td>853541</td>\n",
       "      <td>2017-01-08 18:28:03.143765</td>\n",
       "      <td>treatment</td>\n",
       "      <td>new_page</td>\n",
       "      <td>0</td>\n",
       "    </tr>\n",
       "    <tr>\n",
       "      <th>4</th>\n",
       "      <td>864975</td>\n",
       "      <td>2017-01-21 01:52:26.210827</td>\n",
       "      <td>control</td>\n",
       "      <td>old_page</td>\n",
       "      <td>1</td>\n",
       "    </tr>\n",
       "  </tbody>\n",
       "</table>\n",
       "</div>"
      ],
      "text/plain": [
       "   user_id                   timestamp      group landing_page  converted\n",
       "0   851104  2017-01-21 22:11:48.556739    control     old_page          0\n",
       "1   804228  2017-01-12 08:01:45.159739    control     old_page          0\n",
       "2   661590  2017-01-11 16:55:06.154213  treatment     new_page          0\n",
       "3   853541  2017-01-08 18:28:03.143765  treatment     new_page          0\n",
       "4   864975  2017-01-21 01:52:26.210827    control     old_page          1"
      ]
     },
     "execution_count": 2,
     "metadata": {},
     "output_type": "execute_result"
    }
   ],
   "source": [
    "ab_data = pd.read_csv('ab_data.csv')\n",
    "print(len(ab_data))\n",
    "ab_data.head()"
   ]
  },
  {
   "cell_type": "code",
   "execution_count": 3,
   "id": "66021182",
   "metadata": {},
   "outputs": [
    {
     "data": {
      "text/html": [
       "<div>\n",
       "<style scoped>\n",
       "    .dataframe tbody tr th:only-of-type {\n",
       "        vertical-align: middle;\n",
       "    }\n",
       "\n",
       "    .dataframe tbody tr th {\n",
       "        vertical-align: top;\n",
       "    }\n",
       "\n",
       "    .dataframe thead th {\n",
       "        text-align: right;\n",
       "    }\n",
       "</style>\n",
       "<table border=\"1\" class=\"dataframe\">\n",
       "  <thead>\n",
       "    <tr style=\"text-align: right;\">\n",
       "      <th>converted</th>\n",
       "      <th>0</th>\n",
       "      <th>1</th>\n",
       "      <th>All</th>\n",
       "    </tr>\n",
       "    <tr>\n",
       "      <th>landing_page</th>\n",
       "      <th></th>\n",
       "      <th></th>\n",
       "      <th></th>\n",
       "    </tr>\n",
       "  </thead>\n",
       "  <tbody>\n",
       "    <tr>\n",
       "      <th>new_page</th>\n",
       "      <td>0.440580</td>\n",
       "      <td>0.059420</td>\n",
       "      <td>0.5</td>\n",
       "    </tr>\n",
       "    <tr>\n",
       "      <th>old_page</th>\n",
       "      <td>0.439761</td>\n",
       "      <td>0.060239</td>\n",
       "      <td>0.5</td>\n",
       "    </tr>\n",
       "    <tr>\n",
       "      <th>All</th>\n",
       "      <td>0.880341</td>\n",
       "      <td>0.119659</td>\n",
       "      <td>1.0</td>\n",
       "    </tr>\n",
       "  </tbody>\n",
       "</table>\n",
       "</div>"
      ],
      "text/plain": [
       "converted            0         1  All\n",
       "landing_page                         \n",
       "new_page      0.440580  0.059420  0.5\n",
       "old_page      0.439761  0.060239  0.5\n",
       "All           0.880341  0.119659  1.0"
      ]
     },
     "execution_count": 3,
     "metadata": {},
     "output_type": "execute_result"
    }
   ],
   "source": [
    "pd.crosstab(ab_data['landing_page'], ab_data['converted'], margins = True, normalize=True)"
   ]
  },
  {
   "cell_type": "code",
   "execution_count": 4,
   "id": "8c53acd5",
   "metadata": {},
   "outputs": [
    {
     "data": {
      "text/plain": [
       "[<matplotlib.lines.Line2D at 0x7f8be7e54050>]"
      ]
     },
     "execution_count": 4,
     "metadata": {},
     "output_type": "execute_result"
    },
    {
     "data": {
      "image/png": "[encoded data removed]",
      "text/plain": [
       "<Figure size 640x480 with 1 Axes>"
      ]
     },
     "metadata": {},
     "output_type": "display_data"
    }
   ],
   "source": [
    "from statistics import mean\n",
    "import numpy as np\n",
    "np.random.seed(357)\n",
    "p_0 = mean(ab_data[ab_data['landing_page'] == 'old_page']['converted'])\n",
    "p_1 = mean(ab_data[ab_data['landing_page'] == 'new_page']['converted'])\n",
    "sd_0 = p_0 * (1 - p_0) / len(ab_data[ab_data['landing_page'] == 'old_page'])\n",
    "sd_1 = p_1 * (1 - p_1) / len(ab_data[ab_data['landing_page'] == 'new_page'])\n",
    "import matplotlib.pyplot as plt \n",
    "from scipy.stats import norm \n",
    "x_axis = np.arange(0, 1, 0.0001) \n",
    "plt.plot(x_axis, norm.pdf(x_axis, p_0, sd_0), color='blue') \n",
    "plt.plot(x_axis, norm.pdf(x_axis, p_1, sd_1), color='red') "
   ]
  },
  {
   "cell_type": "code",
   "execution_count": 5,
   "id": "320a2c93",
   "metadata": {},
   "outputs": [
    {
     "name": "stdout",
     "output_type": "stream",
     "text": [
      "0.12047759085568362 7.196649050679107e-07\n",
      "0.11884079625642663 7.112087246012613e-07\n"
     ]
    }
   ],
   "source": [
    "print(p_0, sd_0)\n",
    "print(p_1, sd_1)"
   ]
  },
  {
   "cell_type": "code",
   "execution_count": 6,
   "id": "a6d76ff3",
   "metadata": {},
   "outputs": [
    {
     "name": "stdout",
     "output_type": "stream",
     "text": [
      "Probability of conversion given new page:  0.11884079625642663\n",
      "Probability of conversion given old page:  0.12047759085568362\n",
      "Probability of new page:  0.5\n",
      "Probability of old page:  0.5\n",
      "Overall probability of conversion:  0.11965919355605512\n"
     ]
    }
   ],
   "source": [
    "total = len(ab_data)\n",
    "p_converted_g_new_page = 17498  / len(ab_data[ab_data['landing_page'] == 'new_page'])\n",
    "p_converted_g_old_page = 17739 / len(ab_data[ab_data['landing_page'] == 'old_page'])\n",
    "p_new_page = len(ab_data[ab_data['landing_page'] == 'new_page']) / len(ab_data)\n",
    "p_old_page = len(ab_data[ab_data['landing_page'] == 'old_page']) / len(ab_data)\n",
    "p_converted = sum(ab_data['converted']) / len(ab_data)\n",
    "print(\"Probability of conversion given new page: \", p_converted_g_new_page)\n",
    "print(\"Probability of conversion given old page: \", p_converted_g_old_page)\n",
    "print(\"Probability of new page: \", p_new_page)\n",
    "print(\"Probability of old page: \", p_old_page)\n",
    "print(\"Overall probability of conversion: \", sum(ab_data['converted']) / len(ab_data))"
   ]
  },
  {
   "cell_type": "code",
   "execution_count": 7,
   "id": "2fcffbed",
   "metadata": {},
   "outputs": [
    {
     "data": {
      "text/html": [
       "<div>\n",
       "<style scoped>\n",
       "    .dataframe tbody tr th:only-of-type {\n",
       "        vertical-align: middle;\n",
       "    }\n",
       "\n",
       "    .dataframe tbody tr th {\n",
       "        vertical-align: top;\n",
       "    }\n",
       "\n",
       "    .dataframe thead th {\n",
       "        text-align: right;\n",
       "    }\n",
       "</style>\n",
       "<table border=\"1\" class=\"dataframe\">\n",
       "  <thead>\n",
       "    <tr style=\"text-align: right;\">\n",
       "      <th>converted</th>\n",
       "      <th>0</th>\n",
       "      <th>1</th>\n",
       "      <th>All</th>\n",
       "    </tr>\n",
       "    <tr>\n",
       "      <th>group</th>\n",
       "      <th></th>\n",
       "      <th></th>\n",
       "      <th></th>\n",
       "    </tr>\n",
       "  </thead>\n",
       "  <tbody>\n",
       "    <tr>\n",
       "      <th>control</th>\n",
       "      <td>0.439690</td>\n",
       "      <td>0.060184</td>\n",
       "      <td>0.499874</td>\n",
       "    </tr>\n",
       "    <tr>\n",
       "      <th>treatment</th>\n",
       "      <td>0.440651</td>\n",
       "      <td>0.059475</td>\n",
       "      <td>0.500126</td>\n",
       "    </tr>\n",
       "    <tr>\n",
       "      <th>All</th>\n",
       "      <td>0.880341</td>\n",
       "      <td>0.119659</td>\n",
       "      <td>1.000000</td>\n",
       "    </tr>\n",
       "  </tbody>\n",
       "</table>\n",
       "</div>"
      ],
      "text/plain": [
       "converted         0         1       All\n",
       "group                                  \n",
       "control    0.439690  0.060184  0.499874\n",
       "treatment  0.440651  0.059475  0.500126\n",
       "All        0.880341  0.119659  1.000000"
      ]
     },
     "execution_count": 7,
     "metadata": {},
     "output_type": "execute_result"
    }
   ],
   "source": [
    "pd.crosstab(ab_data['group'], ab_data['converted'], margins = True, normalize=True)"
   ]
  },
  {
   "cell_type": "code",
   "execution_count": 8,
   "id": "9d8613e2",
   "metadata": {},
   "outputs": [
    {
     "data": {
      "text/html": [
       "<div>\n",
       "<style scoped>\n",
       "    .dataframe tbody tr th:only-of-type {\n",
       "        vertical-align: middle;\n",
       "    }\n",
       "\n",
       "    .dataframe tbody tr th {\n",
       "        vertical-align: top;\n",
       "    }\n",
       "\n",
       "    .dataframe thead th {\n",
       "        text-align: right;\n",
       "    }\n",
       "</style>\n",
       "<table border=\"1\" class=\"dataframe\">\n",
       "  <thead>\n",
       "    <tr style=\"text-align: right;\">\n",
       "      <th>landing_page</th>\n",
       "      <th>new_page</th>\n",
       "      <th>old_page</th>\n",
       "      <th>All</th>\n",
       "    </tr>\n",
       "    <tr>\n",
       "      <th>group</th>\n",
       "      <th></th>\n",
       "      <th></th>\n",
       "      <th></th>\n",
       "    </tr>\n",
       "  </thead>\n",
       "  <tbody>\n",
       "    <tr>\n",
       "      <th>control</th>\n",
       "      <td>0.006547</td>\n",
       "      <td>0.493327</td>\n",
       "      <td>0.499874</td>\n",
       "    </tr>\n",
       "    <tr>\n",
       "      <th>treatment</th>\n",
       "      <td>0.493453</td>\n",
       "      <td>0.006673</td>\n",
       "      <td>0.500126</td>\n",
       "    </tr>\n",
       "    <tr>\n",
       "      <th>All</th>\n",
       "      <td>0.500000</td>\n",
       "      <td>0.500000</td>\n",
       "      <td>1.000000</td>\n",
       "    </tr>\n",
       "  </tbody>\n",
       "</table>\n",
       "</div>"
      ],
      "text/plain": [
       "landing_page  new_page  old_page       All\n",
       "group                                     \n",
       "control       0.006547  0.493327  0.499874\n",
       "treatment     0.493453  0.006673  0.500126\n",
       "All           0.500000  0.500000  1.000000"
      ]
     },
     "execution_count": 8,
     "metadata": {},
     "output_type": "execute_result"
    }
   ],
   "source": [
    "pd.crosstab(ab_data['group'], ab_data['landing_page'], margins = True, normalize=True)"
   ]
  },
  {
   "cell_type": "code",
   "execution_count": 9,
   "id": "b04c62ae",
   "metadata": {},
   "outputs": [
    {
     "data": {
      "text/html": [
       "<div>\n",
       "<style scoped>\n",
       "    .dataframe tbody tr th:only-of-type {\n",
       "        vertical-align: middle;\n",
       "    }\n",
       "\n",
       "    .dataframe tbody tr th {\n",
       "        vertical-align: top;\n",
       "    }\n",
       "\n",
       "    .dataframe thead th {\n",
       "        text-align: right;\n",
       "    }\n",
       "</style>\n",
       "<table border=\"1\" class=\"dataframe\">\n",
       "  <thead>\n",
       "    <tr style=\"text-align: right;\">\n",
       "      <th></th>\n",
       "      <th>user_id</th>\n",
       "      <th>timestamp</th>\n",
       "      <th>group</th>\n",
       "      <th>landing_page</th>\n",
       "      <th>converted</th>\n",
       "    </tr>\n",
       "  </thead>\n",
       "  <tbody>\n",
       "    <tr>\n",
       "      <th>2</th>\n",
       "      <td>661590</td>\n",
       "      <td>2017-01-11 16:55:06.154213</td>\n",
       "      <td>treatment</td>\n",
       "      <td>new_page</td>\n",
       "      <td>0</td>\n",
       "    </tr>\n",
       "    <tr>\n",
       "      <th>3</th>\n",
       "      <td>853541</td>\n",
       "      <td>2017-01-08 18:28:03.143765</td>\n",
       "      <td>treatment</td>\n",
       "      <td>new_page</td>\n",
       "      <td>0</td>\n",
       "    </tr>\n",
       "    <tr>\n",
       "      <th>6</th>\n",
       "      <td>679687</td>\n",
       "      <td>2017-01-19 03:26:46.940749</td>\n",
       "      <td>treatment</td>\n",
       "      <td>new_page</td>\n",
       "      <td>1</td>\n",
       "    </tr>\n",
       "    <tr>\n",
       "      <th>8</th>\n",
       "      <td>817355</td>\n",
       "      <td>2017-01-04 17:58:08.979471</td>\n",
       "      <td>treatment</td>\n",
       "      <td>new_page</td>\n",
       "      <td>1</td>\n",
       "    </tr>\n",
       "    <tr>\n",
       "      <th>9</th>\n",
       "      <td>839785</td>\n",
       "      <td>2017-01-15 18:11:06.610965</td>\n",
       "      <td>treatment</td>\n",
       "      <td>new_page</td>\n",
       "      <td>1</td>\n",
       "    </tr>\n",
       "    <tr>\n",
       "      <th>...</th>\n",
       "      <td>...</td>\n",
       "      <td>...</td>\n",
       "      <td>...</td>\n",
       "      <td>...</td>\n",
       "      <td>...</td>\n",
       "    </tr>\n",
       "    <tr>\n",
       "      <th>294462</th>\n",
       "      <td>677163</td>\n",
       "      <td>2017-01-03 19:41:51.902148</td>\n",
       "      <td>treatment</td>\n",
       "      <td>new_page</td>\n",
       "      <td>0</td>\n",
       "    </tr>\n",
       "    <tr>\n",
       "      <th>294465</th>\n",
       "      <td>925675</td>\n",
       "      <td>2017-01-07 20:38:26.346410</td>\n",
       "      <td>treatment</td>\n",
       "      <td>new_page</td>\n",
       "      <td>0</td>\n",
       "    </tr>\n",
       "    <tr>\n",
       "      <th>294468</th>\n",
       "      <td>643562</td>\n",
       "      <td>2017-01-02 19:20:05.460595</td>\n",
       "      <td>treatment</td>\n",
       "      <td>new_page</td>\n",
       "      <td>0</td>\n",
       "    </tr>\n",
       "    <tr>\n",
       "      <th>294472</th>\n",
       "      <td>822004</td>\n",
       "      <td>2017-01-04 03:36:46.071379</td>\n",
       "      <td>treatment</td>\n",
       "      <td>new_page</td>\n",
       "      <td>0</td>\n",
       "    </tr>\n",
       "    <tr>\n",
       "      <th>294477</th>\n",
       "      <td>715931</td>\n",
       "      <td>2017-01-16 12:40:24.467417</td>\n",
       "      <td>treatment</td>\n",
       "      <td>new_page</td>\n",
       "      <td>0</td>\n",
       "    </tr>\n",
       "  </tbody>\n",
       "</table>\n",
       "<p>147276 rows × 5 columns</p>\n",
       "</div>"
      ],
      "text/plain": [
       "        user_id                   timestamp      group landing_page  converted\n",
       "2        661590  2017-01-11 16:55:06.154213  treatment     new_page          0\n",
       "3        853541  2017-01-08 18:28:03.143765  treatment     new_page          0\n",
       "6        679687  2017-01-19 03:26:46.940749  treatment     new_page          1\n",
       "8        817355  2017-01-04 17:58:08.979471  treatment     new_page          1\n",
       "9        839785  2017-01-15 18:11:06.610965  treatment     new_page          1\n",
       "...         ...                         ...        ...          ...        ...\n",
       "294462   677163  2017-01-03 19:41:51.902148  treatment     new_page          0\n",
       "294465   925675  2017-01-07 20:38:26.346410  treatment     new_page          0\n",
       "294468   643562  2017-01-02 19:20:05.460595  treatment     new_page          0\n",
       "294472   822004  2017-01-04 03:36:46.071379  treatment     new_page          0\n",
       "294477   715931  2017-01-16 12:40:24.467417  treatment     new_page          0\n",
       "\n",
       "[147276 rows x 5 columns]"
      ]
     },
     "execution_count": 9,
     "metadata": {},
     "output_type": "execute_result"
    }
   ],
   "source": [
    "control = ab_data[ab_data['group'] == 'control']\n",
    "treat = ab_data[ab_data['group'] == 'treatment']\n",
    "treat"
   ]
  },
  {
   "cell_type": "markdown",
   "id": "7a0c76a0",
   "metadata": {},
   "source": [
    "We would like to assume that the new page as a higher conversion rate than the old page, so we supposed H_0: p_new_page > p_old_page vs. H_1: p_new_page <= p_old_page. "
   ]
  },
  {
   "cell_type": "code",
   "execution_count": 10,
   "id": "52ab52a3",
   "metadata": {},
   "outputs": [],
   "source": [
    "import random\n",
    "random.seed(357)\n",
    "def generate(p_new, p_conv_old, p_conv_new, iterations):\n",
    "    df = []\n",
    "    timeline = []\n",
    "    total_new = 0 # number of visits to each landing page\n",
    "    total_old = 0\n",
    "    new_conv = 0 # number of conversions on each landing page\n",
    "    old_conv = 0\n",
    "    llh_conv_new = 1 # likelihoods of conversion\n",
    "    llh_conv_old = 1\n",
    "    for i in range(iterations):\n",
    "        if random.uniform(0,1) <= p_new: # the new webpage is the landing page\n",
    "            if random.uniform(0,1) <= p_conv_new: # a conversion happens on the new webpage\n",
    "                df.append(pd.DataFrame({\n",
    "                    \"landing_page\" : ['new'],\n",
    "                    'converted' : [1]\n",
    "                }))\n",
    "                new_conv += 1\n",
    "                llh_conv_new *= p_conv_new\n",
    "            else: # a conversion does not happen on the new webpage\n",
    "                df.append(pd.DataFrame({\n",
    "                    \"landing_page\" : ['new'],\n",
    "                    'converted' : [0]\n",
    "                }))\n",
    "                llh_conv_new *= (1 - p_conv_new)\n",
    "            total_new += 1 # count the landing on the new webpage\n",
    "        else: # the old webpage is the landing page\n",
    "            if random.uniform(0,1) <= p_conv_old: # a conversion happens on the old webpage\n",
    "                df.append(pd.DataFrame({\n",
    "                    \"landing_page\" : ['old'],\n",
    "                    'converted' : [1]\n",
    "                }))\n",
    "                old_conv += 1\n",
    "                llh_conv_old *= p_conv_old\n",
    "            else: # a conversion does not happen on the old webpage\n",
    "                df.append(pd.DataFrame({\n",
    "                    \"landing_page\" : ['old'],\n",
    "                    'converted' : [0]\n",
    "                }))\n",
    "                llh_conv_old *= (1 - p_conv_old)\n",
    "            total_old += 1 # count the landing on the old webpage\n",
    "            \n",
    "        if total_new == 0: # avoids division by zero\n",
    "            test_prop_new = 0\n",
    "        else:\n",
    "            test_prop_new = new_conv / total_new\n",
    "            \n",
    "        if total_old == 0:\n",
    "            test_prop_old = 0\n",
    "        else:\n",
    "            test_prop_old = old_conv / total_old\n",
    "            \n",
    "        timeline.append(pd.DataFrame({\n",
    "            'conversion_rate_new_page' : [test_prop_new],\n",
    "            'conversion_rate_old_page' : [test_prop_old],\n",
    "            'iteration' : [i]\n",
    "        }))\n",
    "    return pd.concat(df, ignore_index=True), pd.concat(timeline, ignore_index=True), llh_conv_new, llh_conv_old\n",
    "\n",
    "import scipy.stats\n",
    "def get_prior(p, alpha, beta):\n",
    "    return p ** (alpha - 1) * (1 - p) ** (beta - 1) / scipy.stats.beta.pdf()\n",
    "\n",
    "def get_posterior(data, page_type, p): # given that the prior follows a beta distribution\n",
    "    y = len(data[(data['landing_page'] == page_type) & (data['converted'] == 1)])\n",
    "    n = len(data[data['landing_page'] == page_type])\n",
    "    return (p ** n) * (1 - p) ** (n - y)"
   ]
  },
  {
   "cell_type": "code",
   "execution_count": 11,
   "id": "9f7c3ff8",
   "metadata": {},
   "outputs": [
    {
     "name": "stdout",
     "output_type": "stream",
     "text": [
      "llh_conv_new :5.5277994451041446e-11 llh_conv_old :3.8889518014473674e-08\n",
      "Blue: the rate of conversion on the old landing page; Red: the rate of conversion on the new landing page\n"
     ]
    },
    {
     "data": {
      "image/png": "[encoded data removed]",
      "text/plain": [
       "<Figure size 640x480 with 1 Axes>"
      ]
     },
     "metadata": {},
     "output_type": "display_data"
    }
   ],
   "source": [
    "import matplotlib.pyplot as plt\n",
    "df, timeline, llh_conv_new, llh_conv_old = generate(0.5, p_converted_g_old_page, p_converted_g_new_page, 100)\n",
    "print(\"llh_conv_new :\" + str(llh_conv_new) + \" llh_conv_old :\" + str(llh_conv_old))\n",
    "print('Blue: the rate of conversion on the old landing page; Red: the rate of conversion on the new landing page')\n",
    "plt.plot(timeline['iteration'], timeline['conversion_rate_new_page'], color='blue')\n",
    "plt.plot(timeline['iteration'], timeline['conversion_rate_old_page'], color='red')\n",
    "plt.show()"
   ]
  },
  {
   "cell_type": "code",
   "execution_count": 12,
   "id": "c884ab9c",
   "metadata": {},
   "outputs": [],
   "source": [
    "def sample_proportion(conversion,n,sim_size,alpha=2,beta=20): \n",
    "    return np.random.beta(conversion+alpha,n-conversion+beta,sim_size)\n",
    "def proportion_test_b(conversion1,conversion2,n1,n2,sim_size,alpha1=2,alpha2=2,beta1=20,beta2=20):\n",
    "    p1 = sample_proportion(conversion1,n1,sim_size,alpha1,beta1)\n",
    "    p2 = sample_proportion(conversion2,n2,sim_size,alpha2,beta2)\n",
    "    return (p1 > p2).mean()\n",
    "def proportion_ratio(conversion1,conversion2,n1,n2,sim_size,alpha1=2,alpha2=2,beta1=20,beta2=20):\n",
    "    p1 = sample_proportion(conversion1,n1,sim_size,alpha1,beta1)\n",
    "    p2 = sample_proportion(conversion2,n2,sim_size,alpha2,beta2)\n",
    "    return p1/p2\n",
    "def proportion_ci_b(conversion1,conversion2,n1,n2,sim_size,p_value=0.05,alpha1=2,alpha2=2,beta1=20,beta2=20):\n",
    "    ratios = proportion_ratio(conversion1,conversion2,n1,n2,sim_size,alpha1,alpha2,beta1,beta2)\n",
    "    return np.quantile(ratios,[p_value/2,1-p_value/2])"
   ]
  },
  {
   "cell_type": "code",
   "execution_count": 13,
   "id": "e1245faf",
   "metadata": {},
   "outputs": [
    {
     "name": "stdout",
     "output_type": "stream",
     "text": [
      "Probability that the new page has more conversions than the old page is: 0.085775\n",
      "Average A/B ratios: 0.9864588010183664\n",
      "Credible interval of A/B ratio: [0.96725962 1.00594147]\n"
     ]
    }
   ],
   "source": [
    "new_page = ab_data[ab_data['landing_page'] == 'new_page'].reset_index(drop=True).copy()\n",
    "old_page = ab_data[ab_data['landing_page'] == 'old_page'].reset_index(drop=True).copy()\n",
    "new_conversions = sum(new_page['converted'])\n",
    "new_n = len(new_page)\n",
    "old_conversions = sum(old_page['converted'])\n",
    "old_n = len(old_page)\n",
    "my_sim_size = 1000000\n",
    "p_value = proportion_test_b(new_conversions, old_conversions,\n",
    "                           new_n, old_n, sim_size = my_sim_size)\n",
    "ratios = proportion_ratio(new_conversions, old_conversions, new_n, old_n, sim_size = my_sim_size)\n",
    "ci = proportion_ci_b(new_conversions, old_conversions, new_n, old_n, sim_size = my_sim_size)\n",
    "print(f'Probability that the new page has more conversions than the old page is: {p_value}')\n",
    "print(f'Average A/B ratios: {ratios.mean()}')\n",
    "print(f'Credible interval of A/B ratio: {ci}')"
   ]
  },
  {
   "cell_type": "code",
   "execution_count": 14,
   "id": "8bf0cdc1",
   "metadata": {},
   "outputs": [
    {
     "data": {
      "image/png": "[encoded data removed]",
      "text/plain": [
       "<Figure size 640x480 with 1 Axes>"
      ]
     },
     "metadata": {},
     "output_type": "display_data"
    }
   ],
   "source": [
    "plt.hist(ratios)\n",
    "plt.axvline(1, color='red')\n",
    "plt.title(\"A/B ratios\")\n",
    "plt.show()"
   ]
  },
  {
   "cell_type": "code",
   "execution_count": 15,
   "id": "3385542a",
   "metadata": {},
   "outputs": [],
   "source": [
    "def generate_sample_study(df, size, sample_size):\n",
    "    new_df = []\n",
    "    previous_cumu_new = 0\n",
    "    previous_cumu_old = 0\n",
    "    previous_cumu_conv_new = 0\n",
    "    previous_cumu_conv_old = 0\n",
    "    cumu_conv_ratio_old = 0\n",
    "    cumu_conv_ratio_new = 0\n",
    "    for i in range(size):\n",
    "        current_sample = df.sample(sample_size)\n",
    "        sample_new = current_sample[current_sample['landing_page'] == 'new_page']\n",
    "        sample_old = current_sample[current_sample['landing_page'] == 'old_page']\n",
    "        previous_cumu_new += len(sample_old)\n",
    "        previous_cumu_old += len(sample_new)\n",
    "        previous_cumu_conv_old += sum(sample_old['converted'])\n",
    "        previous_cumu_conv_new += sum(sample_new['converted'])\n",
    "        if previous_cumu_old != 0: # avoid division by zero\n",
    "            cumu_conv_ratio_old = previous_cumu_conv_old / previous_cumu_old\n",
    "        if previous_cumu_new != 0:\n",
    "            cumu_conv_ratio_new = previous_cumu_conv_new / previous_cumu_new\n",
    "        new_df.append(pd.DataFrame({\n",
    "            \"time\" : i,\n",
    "            \"old_page_interaction\" : [len(sample_old)],\n",
    "            \"new_page_interaction\" : [len(sample_new)],\n",
    "            'old_page_conversions' : [sum(sample_old['converted'])],\n",
    "            'new_page_conversions' : [sum(sample_new['converted'])],\n",
    "            'cumulative_old_page_interaction' : previous_cumu_old ,\n",
    "            'cumulative_new_page_interaction' : previous_cumu_new,\n",
    "            'cumulative_old_page_conversion' : previous_cumu_conv_old,\n",
    "            'cumulative_new_page_conversion' : previous_cumu_conv_new,\n",
    "            'cumulative_old_page_conversion_rate' : cumu_conv_ratio_old,\n",
    "            'cumulative_new_page_conversion_rate' : cumu_conv_ratio_new\n",
    "        }))\n",
    "    return pd.concat(new_df, ignore_index=True)\n",
    "\n",
    "def generate_prob_same_study(timeline):\n",
    "    prob_same = []\n",
    "    for _, row in timeline.iterrows():\n",
    "        prob_same.append(proportion_test_b(\n",
    "        row['cumulative_old_page_conversion'],\n",
    "        row['cumulative_new_page_conversion'],\n",
    "        row['cumulative_old_page_interaction'],\n",
    "        row['cumulative_new_page_interaction'],\n",
    "            sim_size = my_sim_size\n",
    "    ))\n",
    "    timeline['prob_same'] = prob_same\n",
    "    return\n",
    "\n",
    "def generate_random_samples(p, n): # called when generating synthetic data\n",
    "    results = []\n",
    "    for i in range(n):\n",
    "        results.append((random.uniform(0,1) <= p) + 0)\n",
    "    return results\n",
    "\n",
    "def generate_synthetic_data(p_old, p_new, length = 50, sample_size = 1):\n",
    "    new_df = []\n",
    "    previous_cumu_new = 0\n",
    "    previous_cumu_old = 0\n",
    "    previous_cumu_conv_new = 0\n",
    "    previous_cumu_conv_old = 0\n",
    "    cumu_conv_ratio_old = 0\n",
    "    cumu_conv_ratio_new = 0\n",
    "    for i in range(length):\n",
    "        old_samples = random.randint(0, sample_size)\n",
    "        new_samples = sample_size - old_samples\n",
    "        old_conv = sum(generate_random_samples(p_old, old_samples))\n",
    "        new_conv = sum(generate_random_samples(p_new, new_samples))\n",
    "        previous_cumu_new += new_samples\n",
    "        previous_cumu_old += old_samples\n",
    "        previous_cumu_conv_new += new_conv\n",
    "        previous_cumu_conv_old += old_conv\n",
    "        if previous_cumu_old != 0:\n",
    "            cumu_conv_ratio_old = previous_cumu_conv_old / previous_cumu_old\n",
    "        if previous_cumu_new != 0:\n",
    "            cumu_conv_ratio_new = previous_cumu_conv_new / previous_cumu_new\n",
    "        new_df.append(pd.DataFrame({\n",
    "            \"time\" : i,\n",
    "            \"old_page_interaction\" : [old_samples],\n",
    "            \"new_page_interaction\" : [new_samples],\n",
    "            'old_page_conversions' : [old_conv],\n",
    "            'new_page_conversions' : [new_conv],\n",
    "            'cumulative_old_page_interaction' : previous_cumu_old ,\n",
    "            'cumulative_new_page_interaction' : previous_cumu_new,\n",
    "            'cumulative_old_page_conversion' : previous_cumu_conv_old,\n",
    "            'cumulative_new_page_conversion' : previous_cumu_conv_new,\n",
    "            'cumulative_old_page_conversion_rate' : cumu_conv_ratio_old,\n",
    "            'cumulative_new_page_conversion_rate' : cumu_conv_ratio_new\n",
    "        }))\n",
    "    return pd.concat(new_df, ignore_index=True)"
   ]
  },
  {
   "cell_type": "code",
   "execution_count": 16,
   "id": "46f77f7d",
   "metadata": {},
   "outputs": [],
   "source": [
    "num_iterations = 200\n",
    "timeline = generate_sample_study(df = ab_data, size = num_iterations, sample_size = 1)"
   ]
  },
  {
   "cell_type": "code",
   "execution_count": 17,
   "id": "dce96774",
   "metadata": {},
   "outputs": [
    {
     "name": "stdout",
     "output_type": "stream",
     "text": [
      "Blue line: estimated conversion rate for the old landing page; Red line: estimated conversion rate for the new landing page.\n"
     ]
    },
    {
     "data": {
      "image/png": "[encoded data removed]",
      "text/plain": [
       "<Figure size 640x480 with 1 Axes>"
      ]
     },
     "metadata": {},
     "output_type": "display_data"
    }
   ],
   "source": [
    "print(\"Blue line: estimated conversion rate for the old landing page; Red line: estimated conversion rate for the new landing page.\")\n",
    "plt.plot(timeline['time'], timeline['cumulative_old_page_conversion_rate'], color='blue')\n",
    "plt.plot(timeline['time'], timeline['cumulative_new_page_conversion_rate'], color='red')\n",
    "plt.show()"
   ]
  },
  {
   "cell_type": "code",
   "execution_count": 18,
   "id": "9e371285-a3f2-429b-8354-efb08b27849e",
   "metadata": {},
   "outputs": [],
   "source": [
    "synthetic1 = generate_synthetic_data(p_old = 0.10, p_new = 0.11, length = num_iterations, sample_size = 1)\n",
    "synthetic2 = generate_synthetic_data(p_old = 0.11, p_new = 0.10, length = num_iterations, sample_size = 1)\n",
    "synthetic3 = generate_synthetic_data(p_old = 0.10, p_new = 0.10, length = num_iterations, sample_size = 1)"
   ]
  },
  {
   "cell_type": "code",
   "execution_count": 19,
   "id": "c361a4cf",
   "metadata": {},
   "outputs": [
    {
     "name": "stdout",
     "output_type": "stream",
     "text": [
      "GREEN IS THE ACTUAL DATA\n",
      "BLUE IS NEW BETTER THAN OLD\n",
      "RED IS OLD BETTER THAN NEW\n",
      "BLACK IS BOTH ARE EQUAL\n"
     ]
    },
    {
     "data": {
      "image/png": "[encoded data removed]",
      "text/plain": [
       "<Figure size 640x480 with 1 Axes>"
      ]
     },
     "metadata": {},
     "output_type": "display_data"
    }
   ],
   "source": [
    "generate_prob_same_study(timeline)\n",
    "generate_prob_same_study(synthetic1)\n",
    "generate_prob_same_study(synthetic2)\n",
    "generate_prob_same_study(synthetic3)\n",
    "\n",
    "print(\"\"\"GREEN IS THE ACTUAL DATA\n",
    "BLUE IS NEW BETTER THAN OLD\n",
    "RED IS OLD BETTER THAN NEW\n",
    "BLACK IS BOTH ARE EQUAL\"\"\")\n",
    "plt.plot(timeline['time'], timeline['prob_same'], color=\"green\")\n",
    "plt.plot(synthetic1['time'], synthetic1['prob_same'], color='blue')\n",
    "plt.plot(synthetic2['time'], synthetic2['prob_same'], color='red')\n",
    "plt.plot(synthetic3['time'], synthetic3['prob_same'], color='black')\n",
    "plt.show()"
   ]
  },
  {
   "cell_type": "markdown",
   "id": "99c54711",
   "metadata": {},
   "source": [
    "In conclusion, for this test, we can suppose that the old page is better than the new page."
   ]
  },
  {
   "cell_type": "code",
   "execution_count": 20,
   "id": "944710a1-4f70-4207-8fb9-80d0ade24dc5",
   "metadata": {},
   "outputs": [],
   "source": [
    "# creates a dataframe containing the posterior distribution for the conversion rate of the old and new landing pages\n",
    "# calling with different values of alpha and beta will test the influence of the assumptions/changes in the prior distribution\n",
    "def posterior_distribution(timeline, alpha = 2.0, beta = 20.0):\n",
    "    df = {'time' : [], 'posterior_new_page' : [], 'posterior_old_page' : []}\n",
    "    df['time'] += [0]\n",
    "    df['posterior_new_page'] += [[alpha, beta]]\n",
    "    df['posterior_old_page'] += [[alpha, beta]]\n",
    "    counter = 1\n",
    "    old_page_interaction = 0\n",
    "    new_page_interaction = 0\n",
    "    old_page_conversion = 0\n",
    "    new_page_conversion = 0\n",
    "    for _, row in timeline.iterrows():\n",
    "        old_page_interaction += row['old_page_interaction']\n",
    "        new_page_interaction += row['new_page_interaction']\n",
    "        old_page_conversion += row['old_page_conversions']\n",
    "        new_page_conversion += row['new_page_conversions']\n",
    "        df['time'] += [counter]\n",
    "        df['posterior_new_page'] += [[alpha + new_page_conversion, beta + new_page_interaction - new_page_conversion]]\n",
    "        df['posterior_old_page'] += [[alpha + old_page_conversion, beta + old_page_interaction - old_page_conversion]]\n",
    "        counter += 1\n",
    "    return pd.DataFrame(df)"
   ]
  },
  {
   "cell_type": "code",
   "execution_count": 27,
   "id": "ca1349e9-8cd9-4776-87ee-3e29b5eeaa5a",
   "metadata": {},
   "outputs": [
    {
     "name": "stdout",
     "output_type": "stream",
     "text": [
      "   time posterior_new_page posterior_old_page\n",
      "0     0        [2.0, 20.0]        [2.0, 20.0]\n",
      "1     1        [2.0, 21.0]        [2.0, 20.0]\n",
      "2     2        [2.0, 21.0]        [2.0, 21.0]\n",
      "3     3        [2.0, 22.0]        [2.0, 21.0]\n",
      "4     4        [2.0, 22.0]        [2.0, 22.0]\n",
      "5     5        [2.0, 22.0]        [3.0, 22.0]\n",
      "6     6        [2.0, 22.0]        [3.0, 23.0]\n",
      "7     7        [2.0, 23.0]        [3.0, 23.0]\n",
      "8     8        [2.0, 24.0]        [3.0, 23.0]\n",
      "9     9        [2.0, 24.0]        [3.0, 24.0]\n",
      "0    [2.0, 20.0]\n",
      "Name: posterior_new_page, dtype: object\n"
     ]
    },
    {
     "ename": "ValueError",
     "evalue": "not enough values to unpack (expected 2, got 1)",
     "output_type": "error",
     "traceback": [
      "\u001b[0;31m---------------------------------------------------------------------------\u001b[0m",
      "\u001b[0;31mValueError\u001b[0m                                Traceback (most recent call last)",
      "Cell \u001b[0;32mIn[27], line 5\u001b[0m\n\u001b[1;32m      3\u001b[0m x \u001b[38;5;241m=\u001b[39m np\u001b[38;5;241m.\u001b[39mlinspace(\u001b[38;5;241m0\u001b[39m, \u001b[38;5;241m1\u001b[39m, \u001b[38;5;241m200\u001b[39m)\n\u001b[1;32m      4\u001b[0m \u001b[38;5;28mprint\u001b[39m(posteriors[posteriors[\u001b[38;5;124m'\u001b[39m\u001b[38;5;124mtime\u001b[39m\u001b[38;5;124m'\u001b[39m] \u001b[38;5;241m==\u001b[39m \u001b[38;5;241m0\u001b[39m][\u001b[38;5;124m'\u001b[39m\u001b[38;5;124mposterior_new_page\u001b[39m\u001b[38;5;124m'\u001b[39m])\n\u001b[0;32m----> 5\u001b[0m a, b \u001b[38;5;241m=\u001b[39m posteriors[posteriors[\u001b[38;5;124m'\u001b[39m\u001b[38;5;124mtime\u001b[39m\u001b[38;5;124m'\u001b[39m] \u001b[38;5;241m==\u001b[39m \u001b[38;5;241m0\u001b[39m][\u001b[38;5;124m'\u001b[39m\u001b[38;5;124mposterior_new_page\u001b[39m\u001b[38;5;124m'\u001b[39m]\n\u001b[1;32m      6\u001b[0m \u001b[38;5;28mprint\u001b[39m(a)\n\u001b[1;32m      7\u001b[0m \u001b[38;5;28mprint\u001b[39m(b)\n",
      "\u001b[0;31mValueError\u001b[0m: not enough values to unpack (expected 2, got 1)"
     ]
    }
   ],
   "source": [
    "posteriors = posterior_distribution(timeline)\n",
    "print(posteriors[posteriors['time'] < 10])\n",
    "x = np.linspace(0, 1, 200)\n",
    "print(posteriors[posteriors['time'] == 0]['posterior_new_page'])\n",
    "a, b = posteriors[posteriors['time'] == 0]['posterior_new_page']\n",
    "print(a)\n",
    "print(b)\n",
    "#plt.plot(x, scipy.stats.beta.pdf(x, a, b)) ## WIP\n",
    "#plt.show()"
   ]
  },
  {
   "cell_type": "code",
   "execution_count": null,
   "id": "411be5da-f176-42d8-a256-b933ccf73a26",
   "metadata": {},
   "outputs": [],
   "source": []
  }
 ],
 "metadata": {
  "kernelspec": {
   "display_name": "Python 3 (ipykernel)",
   "language": "python",
   "name": "python3"
  },
  "language_info": {
   "codemirror_mode": {
    "name": "ipython",
    "version": 3
   },
   "file_extension": ".py",
   "mimetype": "text/x-python",
   "name": "python",
   "nbconvert_exporter": "python",
   "pygments_lexer": "ipython3",
   "version": "3.11.5"
  }
 },
 "nbformat": 4,
 "nbformat_minor": 5
}
